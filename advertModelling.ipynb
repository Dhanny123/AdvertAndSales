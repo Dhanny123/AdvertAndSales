{
 "cells": [
  {
   "cell_type": "code",
   "execution_count": 2,
   "metadata": {},
   "outputs": [],
   "source": [
    "import pandas as pd\n",
    "import numpy as np\n",
    "import seaborn as sns\n",
    "import matplotlib.pyplot as plt\n",
    "import warnings\n",
    "warnings.filterwarnings('ignore')\n",
    "sns.set(style= 'darkgrid')"
   ]
  },
  {
   "cell_type": "code",
   "execution_count": 3,
   "metadata": {},
   "outputs": [
    {
     "data": {
      "text/html": [
       "<div>\n",
       "<style scoped>\n",
       "    .dataframe tbody tr th:only-of-type {\n",
       "        vertical-align: middle;\n",
       "    }\n",
       "\n",
       "    .dataframe tbody tr th {\n",
       "        vertical-align: top;\n",
       "    }\n",
       "\n",
       "    .dataframe thead th {\n",
       "        text-align: right;\n",
       "    }\n",
       "</style>\n",
       "<table border=\"1\" class=\"dataframe\">\n",
       "  <thead>\n",
       "    <tr style=\"text-align: right;\">\n",
       "      <th></th>\n",
       "      <th>TV</th>\n",
       "      <th>Radio</th>\n",
       "      <th>Social Media</th>\n",
       "      <th>Influencer</th>\n",
       "      <th>Sales</th>\n",
       "    </tr>\n",
       "  </thead>\n",
       "  <tbody>\n",
       "    <tr>\n",
       "      <th>0</th>\n",
       "      <td>16.0</td>\n",
       "      <td>6.566231</td>\n",
       "      <td>2.907983</td>\n",
       "      <td>Mega</td>\n",
       "      <td>54.732757</td>\n",
       "    </tr>\n",
       "    <tr>\n",
       "      <th>1</th>\n",
       "      <td>13.0</td>\n",
       "      <td>9.237765</td>\n",
       "      <td>2.409567</td>\n",
       "      <td>Mega</td>\n",
       "      <td>46.677897</td>\n",
       "    </tr>\n",
       "    <tr>\n",
       "      <th>2</th>\n",
       "      <td>41.0</td>\n",
       "      <td>15.886446</td>\n",
       "      <td>2.913410</td>\n",
       "      <td>Mega</td>\n",
       "      <td>150.177829</td>\n",
       "    </tr>\n",
       "    <tr>\n",
       "      <th>3</th>\n",
       "      <td>83.0</td>\n",
       "      <td>30.020028</td>\n",
       "      <td>6.922304</td>\n",
       "      <td>Mega</td>\n",
       "      <td>298.246340</td>\n",
       "    </tr>\n",
       "    <tr>\n",
       "      <th>4</th>\n",
       "      <td>15.0</td>\n",
       "      <td>8.437408</td>\n",
       "      <td>1.405998</td>\n",
       "      <td>Micro</td>\n",
       "      <td>56.594181</td>\n",
       "    </tr>\n",
       "  </tbody>\n",
       "</table>\n",
       "</div>"
      ],
      "text/plain": [
       "     TV      Radio  Social Media Influencer       Sales\n",
       "0  16.0   6.566231      2.907983       Mega   54.732757\n",
       "1  13.0   9.237765      2.409567       Mega   46.677897\n",
       "2  41.0  15.886446      2.913410       Mega  150.177829\n",
       "3  83.0  30.020028      6.922304       Mega  298.246340\n",
       "4  15.0   8.437408      1.405998      Micro   56.594181"
      ]
     },
     "execution_count": 3,
     "metadata": {},
     "output_type": "execute_result"
    }
   ],
   "source": [
    "data = pd.read_csv('AdvertAndSales.csv')\n",
    "data.head()"
   ]
  },
  {
   "cell_type": "code",
   "execution_count": 4,
   "metadata": {},
   "outputs": [
    {
     "data": {
      "text/plain": [
       "TV              10\n",
       "Social Media     6\n",
       "Sales            6\n",
       "Radio            4\n",
       "Influencer       0\n",
       "dtype: int64"
      ]
     },
     "execution_count": 4,
     "metadata": {},
     "output_type": "execute_result"
    }
   ],
   "source": [
    "data.isnull().sum().sort_values(ascending=False)"
   ]
  },
  {
   "cell_type": "code",
   "execution_count": 5,
   "metadata": {},
   "outputs": [
    {
     "data": {
      "text/plain": [
       "TV              0\n",
       "Radio           0\n",
       "Social Media    0\n",
       "Influencer      0\n",
       "Sales           0\n",
       "dtype: int64"
      ]
     },
     "execution_count": 5,
     "metadata": {},
     "output_type": "execute_result"
    }
   ],
   "source": [
    "for i in data.columns:\n",
    "    if ((data[i].isnull().sum() / len(data)) * 100).round(2) < 30:\n",
    "        if data[i].dtypes == 'O':\n",
    "            data[i].fillna(data[i].mode()[0], inplace = True)\n",
    "        else:\n",
    "            data[i].fillna(data[i].median(), inplace = True)\n",
    "    else:\n",
    "        data.drop(i, axis = 1, inplace = True)\n",
    "\n",
    "data.isnull().sum().sort_values(ascending=False)"
   ]
  },
  {
   "cell_type": "code",
   "execution_count": 6,
   "metadata": {},
   "outputs": [
    {
     "name": "stdout",
     "output_type": "stream",
     "text": [
      "<class 'pandas.core.frame.DataFrame'>\n",
      "RangeIndex: 4572 entries, 0 to 4571\n",
      "Data columns (total 5 columns):\n",
      " #   Column        Non-Null Count  Dtype  \n",
      "---  ------        --------------  -----  \n",
      " 0   TV            4572 non-null   float64\n",
      " 1   Radio         4572 non-null   float64\n",
      " 2   Social Media  4572 non-null   float64\n",
      " 3   Influencer    4572 non-null   object \n",
      " 4   Sales         4572 non-null   float64\n",
      "dtypes: float64(4), object(1)\n",
      "memory usage: 178.7+ KB\n"
     ]
    }
   ],
   "source": [
    "data.info()"
   ]
  },
  {
   "cell_type": "markdown",
   "metadata": {},
   "source": [
    "<h3><b>Data Preprocessing<hr></b></h3>"
   ]
  },
  {
   "cell_type": "code",
   "execution_count": 7,
   "metadata": {},
   "outputs": [
    {
     "data": {
      "text/html": [
       "<div>\n",
       "<style scoped>\n",
       "    .dataframe tbody tr th:only-of-type {\n",
       "        vertical-align: middle;\n",
       "    }\n",
       "\n",
       "    .dataframe tbody tr th {\n",
       "        vertical-align: top;\n",
       "    }\n",
       "\n",
       "    .dataframe thead th {\n",
       "        text-align: right;\n",
       "    }\n",
       "</style>\n",
       "<table border=\"1\" class=\"dataframe\">\n",
       "  <thead>\n",
       "    <tr style=\"text-align: right;\">\n",
       "      <th></th>\n",
       "      <th>TV</th>\n",
       "      <th>Radio</th>\n",
       "      <th>Social Media</th>\n",
       "      <th>Influencer</th>\n",
       "      <th>Sales</th>\n",
       "    </tr>\n",
       "  </thead>\n",
       "  <tbody>\n",
       "    <tr>\n",
       "      <th>0</th>\n",
       "      <td>-1.458765</td>\n",
       "      <td>-1.198745</td>\n",
       "      <td>-0.187979</td>\n",
       "      <td>1</td>\n",
       "      <td>54.732757</td>\n",
       "    </tr>\n",
       "    <tr>\n",
       "      <th>1</th>\n",
       "      <td>-1.573736</td>\n",
       "      <td>-0.922522</td>\n",
       "      <td>-0.413405</td>\n",
       "      <td>1</td>\n",
       "      <td>46.677897</td>\n",
       "    </tr>\n",
       "    <tr>\n",
       "      <th>2</th>\n",
       "      <td>-0.500678</td>\n",
       "      <td>-0.235083</td>\n",
       "      <td>-0.185524</td>\n",
       "      <td>1</td>\n",
       "      <td>150.177829</td>\n",
       "    </tr>\n",
       "    <tr>\n",
       "      <th>3</th>\n",
       "      <td>1.108909</td>\n",
       "      <td>1.226255</td>\n",
       "      <td>1.627637</td>\n",
       "      <td>1</td>\n",
       "      <td>298.246340</td>\n",
       "    </tr>\n",
       "    <tr>\n",
       "      <th>4</th>\n",
       "      <td>-1.497089</td>\n",
       "      <td>-1.005275</td>\n",
       "      <td>-0.867304</td>\n",
       "      <td>2</td>\n",
       "      <td>56.594181</td>\n",
       "    </tr>\n",
       "  </tbody>\n",
       "</table>\n",
       "</div>"
      ],
      "text/plain": [
       "         TV     Radio  Social Media  Influencer       Sales\n",
       "0 -1.458765 -1.198745     -0.187979           1   54.732757\n",
       "1 -1.573736 -0.922522     -0.413405           1   46.677897\n",
       "2 -0.500678 -0.235083     -0.185524           1  150.177829\n",
       "3  1.108909  1.226255      1.627637           1  298.246340\n",
       "4 -1.497089 -1.005275     -0.867304           2   56.594181"
      ]
     },
     "execution_count": 7,
     "metadata": {},
     "output_type": "execute_result"
    }
   ],
   "source": [
    "from sklearn.preprocessing import LabelEncoder, StandardScaler\n",
    "import joblib\n",
    "\n",
    "df = data.copy()\n",
    "\n",
    "for i in df.drop(\"Sales\", axis=1).columns:\n",
    "    if i in df.select_dtypes(include= 'number').columns:\n",
    "        scaler = StandardScaler()\n",
    "        df[i] = scaler.fit_transform(df[[i]])\n",
    "        joblib.dump(scaler, open(f'{i}.scaler.pkl', 'wb'))\n",
    "    else:\n",
    "        encoder = LabelEncoder()\n",
    "        df[i] = encoder.fit_transform(df[[i]])\n",
    "        joblib.dump(encoder, open(f'{i}.encoder.pkl', 'wb'))\n",
    "df.head()"
   ]
  },
  {
   "cell_type": "markdown",
   "metadata": {},
   "source": [
    "<h3><b>Modelling<hr></b></h3>"
   ]
  },
  {
   "cell_type": "code",
   "execution_count": 14,
   "metadata": {},
   "outputs": [
    {
     "data": {
      "text/html": [
       "<div>\n",
       "<style scoped>\n",
       "    .dataframe tbody tr th:only-of-type {\n",
       "        vertical-align: middle;\n",
       "    }\n",
       "\n",
       "    .dataframe tbody tr th {\n",
       "        vertical-align: top;\n",
       "    }\n",
       "\n",
       "    .dataframe thead th {\n",
       "        text-align: right;\n",
       "    }\n",
       "</style>\n",
       "<table border=\"1\" class=\"dataframe\">\n",
       "  <thead>\n",
       "    <tr style=\"text-align: right;\">\n",
       "      <th></th>\n",
       "      <th>TV</th>\n",
       "      <th>Radio</th>\n",
       "      <th>Social Media</th>\n",
       "      <th>Influencer</th>\n",
       "    </tr>\n",
       "  </thead>\n",
       "  <tbody>\n",
       "    <tr>\n",
       "      <th>1740</th>\n",
       "      <td>-0.194090</td>\n",
       "      <td>-0.428411</td>\n",
       "      <td>-1.139247</td>\n",
       "      <td>1</td>\n",
       "    </tr>\n",
       "    <tr>\n",
       "      <th>4416</th>\n",
       "      <td>-1.113854</td>\n",
       "      <td>-0.865625</td>\n",
       "      <td>-1.275407</td>\n",
       "      <td>0</td>\n",
       "    </tr>\n",
       "    <tr>\n",
       "      <th>1226</th>\n",
       "      <td>-0.270737</td>\n",
       "      <td>-0.063170</td>\n",
       "      <td>0.121957</td>\n",
       "      <td>3</td>\n",
       "    </tr>\n",
       "    <tr>\n",
       "      <th>2848</th>\n",
       "      <td>-0.653972</td>\n",
       "      <td>-1.300665</td>\n",
       "      <td>0.462995</td>\n",
       "      <td>0</td>\n",
       "    </tr>\n",
       "    <tr>\n",
       "      <th>1826</th>\n",
       "      <td>-1.458765</td>\n",
       "      <td>-1.831002</td>\n",
       "      <td>0.097776</td>\n",
       "      <td>1</td>\n",
       "    </tr>\n",
       "  </tbody>\n",
       "</table>\n",
       "</div>"
      ],
      "text/plain": [
       "            TV     Radio  Social Media  Influencer\n",
       "1740 -0.194090 -0.428411     -1.139247           1\n",
       "4416 -1.113854 -0.865625     -1.275407           0\n",
       "1226 -0.270737 -0.063170      0.121957           3\n",
       "2848 -0.653972 -1.300665      0.462995           0\n",
       "1826 -1.458765 -1.831002      0.097776           1"
      ]
     },
     "metadata": {},
     "output_type": "display_data"
    },
    {
     "data": {
      "text/plain": [
       "1740    178.601661\n",
       "4416     92.848374\n",
       "1226    166.124099\n",
       "2848    134.445973\n",
       "1826     56.016896\n",
       "Name: Sales, dtype: float64"
      ]
     },
     "metadata": {},
     "output_type": "display_data"
    }
   ],
   "source": [
    "x = df.drop('Sales', axis=1)\n",
    "y = df.Sales\n",
    "\n",
    "\n",
    "from sklearn.model_selection import train_test_split\n",
    "\n",
    "xtrain, xtest, ytrain, ytest = train_test_split(x, y, test_size = 0.25, random_state = 40)\n",
    "\n",
    "trains = pd.concat([xtrain, ytrain], axis=1)\n",
    "tests = pd.concat([xtest, ytest], axis=1)\n",
    "\n",
    "display(xtest.head())\n",
    "display(ytest.head ())"
   ]
  },
  {
   "cell_type": "code",
   "execution_count": 19,
   "metadata": {},
   "outputs": [
    {
     "name": "stdout",
     "output_type": "stream",
     "text": [
      "Model Cross Validation is: 99.92\n",
      "\n",
      "Model Performance is: 99.24\n"
     ]
    }
   ],
   "source": [
    "from sklearn.ensemble import RandomForestRegressor\n",
    "from sklearn.metrics import r2_score\n",
    "\n",
    "model = RandomForestRegressor()\n",
    "\n",
    "model.fit(xtrain, ytrain)\n",
    "val = model.predict(xtrain)\n",
    "\n",
    "print(f\"Model Cross Validation is: {round(r2_score(val, ytrain)*100, 2)}\\n\")\n",
    "\n",
    "pred = model.predict(xtest)\n",
    "print(f\"Model Performance is: {round(r2_score(ytest, pred)*100, 2)}\")"
   ]
  },
  {
   "cell_type": "code",
   "execution_count": 20,
   "metadata": {},
   "outputs": [],
   "source": [
    "# save the model\n",
    "\n",
    "joblib.dump(model, open(f'advertModel.pkl', 'wb'))\n",
    "\n"
   ]
  },
  {
   "cell_type": "code",
   "execution_count": null,
   "metadata": {},
   "outputs": [],
   "source": []
  }
 ],
 "metadata": {
  "kernelspec": {
   "display_name": "Python 3",
   "language": "python",
   "name": "python3"
  },
  "language_info": {
   "codemirror_mode": {
    "name": "ipython",
    "version": 3
   },
   "file_extension": ".py",
   "mimetype": "text/x-python",
   "name": "python",
   "nbconvert_exporter": "python",
   "pygments_lexer": "ipython3",
   "version": "3.11.9"
  }
 },
 "nbformat": 4,
 "nbformat_minor": 2
}
