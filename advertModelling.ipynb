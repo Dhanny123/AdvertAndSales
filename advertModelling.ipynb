{
 "cells": [
  {
   "cell_type": "code",
   "execution_count": 2,
   "metadata": {},
   "outputs": [],
   "source": [
    "import pandas as pd\n",
    "import numpy as np\n",
    "import seaborn as sns\n",
    "import matplotlib.pyplot as plt\n",
    "import warnings\n",
    "warnings.filterwarnings('ignore')\n",
    "sns.set(style= 'darkgrid')"
   ]
  },
  {
   "cell_type": "code",
   "execution_count": 1,
   "metadata": {},
   "outputs": [
    {
     "name": "stdout",
     "output_type": "stream",
     "text": [
      "absl-py==2.1.0\n",
      "annotated-types==0.7.0\n",
      "asttokens==2.4.1\n",
      "astunparse==1.6.3\n",
      "attrs==24.2.0\n",
      "blis==1.0.1\n",
      "catalogue==2.0.10\n",
      "certifi==2024.8.30\n",
      "charset-normalizer==3.4.0\n",
      "click==8.1.7\n",
      "cloudpathlib==0.20.0\n",
      "colorama==0.4.6\n",
      "comm==0.2.2\n",
      "confection==0.1.5\n",
      "contourpy==1.3.0\n",
      "cycler==0.12.1\n",
      "cymem==2.0.10\n",
      "debugpy==1.8.7\n",
      "decorator==5.1.1\n",
      "executing==2.1.0\n",
      "fastjsonschema==2.20.0\n",
      "flatbuffers==24.3.25\n",
      "fonttools==4.54.1\n",
      "gast==0.6.0\n",
      "google-pasta==0.2.0\n",
      "grpcio==1.68.1\n",
      "h5py==3.12.1\n",
      "idna==3.10\n",
      "ipykernel==6.29.5\n",
      "ipython==8.28.0\n",
      "jedi==0.19.1\n",
      "Jinja2==3.1.4\n",
      "joblib==1.4.2\n",
      "jsonschema==4.23.0\n",
      "jsonschema-specifications==2024.10.1\n",
      "jupyter_client==8.6.3\n",
      "jupyter_core==5.7.2\n",
      "keras==3.7.0\n",
      "kiwisolver==1.4.7\n",
      "langcodes==3.5.0\n",
      "language_data==1.3.0\n",
      "libclang==18.1.1\n",
      "marisa-trie==1.2.1\n",
      "Markdown==3.7\n",
      "markdown-it-py==3.0.0\n",
      "MarkupSafe==3.0.2\n",
      "matplotlib==3.9.2\n",
      "matplotlib-inline==0.1.7\n",
      "mdurl==0.1.2\n",
      "ml-dtypes==0.4.1\n",
      "murmurhash==1.0.11\n",
      "namex==0.0.8\n",
      "nbformat==5.10.4\n",
      "nest-asyncio==1.6.0\n",
      "nltk==3.9.1\n",
      "numpy==2.0.2\n",
      "opt_einsum==3.4.0\n",
      "optree==0.13.1\n",
      "packaging==24.1\n",
      "pandas==2.2.3\n",
      "parso==0.8.4\n",
      "pillow==11.0.0\n",
      "platformdirs==4.3.6\n",
      "plotly==5.24.1\n",
      "preshed==3.0.9\n",
      "prompt_toolkit==3.0.48\n",
      "protobuf==5.29.1\n",
      "psutil==6.1.0\n",
      "pure_eval==0.2.3\n",
      "pyarrow==18.1.0\n",
      "pydantic==2.10.1\n",
      "pydantic_core==2.27.1\n",
      "Pygments==2.18.0\n",
      "pyparsing==3.2.0\n",
      "python-dateutil==2.9.0.post0\n",
      "pytz==2024.2\n",
      "pywin32==308\n",
      "pyzmq==26.2.0\n",
      "referencing==0.35.1\n",
      "regex==2024.11.6\n",
      "requests==2.32.3\n",
      "rich==13.9.4\n",
      "rpds-py==0.20.0\n",
      "scikit-learn==1.5.2\n",
      "scipy==1.14.1\n",
      "seaborn==0.13.2\n",
      "shellingham==1.5.4\n",
      "six==1.16.0\n",
      "smart-open==7.0.5\n",
      "spacy==3.8.2\n",
      "spacy-legacy==3.0.12\n",
      "spacy-loggers==1.0.5\n",
      "srsly==2.4.8\n",
      "stack-data==0.6.3\n",
      "tenacity==9.0.0\n",
      "tensorboard==2.18.0\n",
      "tensorboard-data-server==0.7.2\n",
      "tensorflow==2.18.0\n",
      "tensorflow-io-gcs-filesystem==0.31.0\n",
      "tensorflow_intel==2.18.0\n",
      "termcolor==2.5.0\n",
      "thinc==8.3.2\n",
      "threadpoolctl==3.5.0\n",
      "tornado==6.4.1\n",
      "tqdm==4.67.0\n",
      "traitlets==5.14.3\n",
      "typer==0.13.1\n",
      "typing_extensions==4.12.2\n",
      "tzdata==2024.2\n",
      "urllib3==2.2.3\n",
      "wasabi==1.1.3\n",
      "wcwidth==0.2.13\n",
      "weasel==0.4.1\n",
      "Werkzeug==3.1.3\n",
      "wrapt==1.17.0\n",
      "xgboost==2.1.1\n",
      "yellowbrick==1.5\n",
      "Note: you may need to restart the kernel to use updated packages.\n"
     ]
    }
   ],
   "source": [
    "pip freeze\n"
   ]
  },
  {
   "cell_type": "code",
   "execution_count": 3,
   "metadata": {},
   "outputs": [
    {
     "data": {
      "text/html": [
       "<div>\n",
       "<style scoped>\n",
       "    .dataframe tbody tr th:only-of-type {\n",
       "        vertical-align: middle;\n",
       "    }\n",
       "\n",
       "    .dataframe tbody tr th {\n",
       "        vertical-align: top;\n",
       "    }\n",
       "\n",
       "    .dataframe thead th {\n",
       "        text-align: right;\n",
       "    }\n",
       "</style>\n",
       "<table border=\"1\" class=\"dataframe\">\n",
       "  <thead>\n",
       "    <tr style=\"text-align: right;\">\n",
       "      <th></th>\n",
       "      <th>TV</th>\n",
       "      <th>Radio</th>\n",
       "      <th>Social Media</th>\n",
       "      <th>Influencer</th>\n",
       "      <th>Sales</th>\n",
       "    </tr>\n",
       "  </thead>\n",
       "  <tbody>\n",
       "    <tr>\n",
       "      <th>0</th>\n",
       "      <td>16.0</td>\n",
       "      <td>6.566231</td>\n",
       "      <td>2.907983</td>\n",
       "      <td>Mega</td>\n",
       "      <td>54.732757</td>\n",
       "    </tr>\n",
       "    <tr>\n",
       "      <th>1</th>\n",
       "      <td>13.0</td>\n",
       "      <td>9.237765</td>\n",
       "      <td>2.409567</td>\n",
       "      <td>Mega</td>\n",
       "      <td>46.677897</td>\n",
       "    </tr>\n",
       "    <tr>\n",
       "      <th>2</th>\n",
       "      <td>41.0</td>\n",
       "      <td>15.886446</td>\n",
       "      <td>2.913410</td>\n",
       "      <td>Mega</td>\n",
       "      <td>150.177829</td>\n",
       "    </tr>\n",
       "    <tr>\n",
       "      <th>3</th>\n",
       "      <td>83.0</td>\n",
       "      <td>30.020028</td>\n",
       "      <td>6.922304</td>\n",
       "      <td>Mega</td>\n",
       "      <td>298.246340</td>\n",
       "    </tr>\n",
       "    <tr>\n",
       "      <th>4</th>\n",
       "      <td>15.0</td>\n",
       "      <td>8.437408</td>\n",
       "      <td>1.405998</td>\n",
       "      <td>Micro</td>\n",
       "      <td>56.594181</td>\n",
       "    </tr>\n",
       "  </tbody>\n",
       "</table>\n",
       "</div>"
      ],
      "text/plain": [
       "     TV      Radio  Social Media Influencer       Sales\n",
       "0  16.0   6.566231      2.907983       Mega   54.732757\n",
       "1  13.0   9.237765      2.409567       Mega   46.677897\n",
       "2  41.0  15.886446      2.913410       Mega  150.177829\n",
       "3  83.0  30.020028      6.922304       Mega  298.246340\n",
       "4  15.0   8.437408      1.405998      Micro   56.594181"
      ]
     },
     "execution_count": 3,
     "metadata": {},
     "output_type": "execute_result"
    }
   ],
   "source": [
    "data = pd.read_csv('AdvertAndSales.csv')\n",
    "data.head()"
   ]
  },
  {
   "cell_type": "code",
   "execution_count": 4,
   "metadata": {},
   "outputs": [
    {
     "data": {
      "text/plain": [
       "TV              10\n",
       "Social Media     6\n",
       "Sales            6\n",
       "Radio            4\n",
       "Influencer       0\n",
       "dtype: int64"
      ]
     },
     "execution_count": 4,
     "metadata": {},
     "output_type": "execute_result"
    }
   ],
   "source": [
    "data.isnull().sum().sort_values(ascending=False)"
   ]
  },
  {
   "cell_type": "code",
   "execution_count": 5,
   "metadata": {},
   "outputs": [
    {
     "data": {
      "text/plain": [
       "TV              0\n",
       "Radio           0\n",
       "Social Media    0\n",
       "Influencer      0\n",
       "Sales           0\n",
       "dtype: int64"
      ]
     },
     "execution_count": 5,
     "metadata": {},
     "output_type": "execute_result"
    }
   ],
   "source": [
    "for i in data.columns:\n",
    "    if ((data[i].isnull().sum() / len(data)) * 100).round(2) < 30:\n",
    "        if data[i].dtypes == 'O':\n",
    "            data[i].fillna(data[i].mode()[0], inplace = True)\n",
    "        else:\n",
    "            data[i].fillna(data[i].median(), inplace = True)\n",
    "    else:\n",
    "        data.drop(i, axis = 1, inplace = True)\n",
    "\n",
    "data.isnull().sum().sort_values(ascending=False)"
   ]
  },
  {
   "cell_type": "code",
   "execution_count": 6,
   "metadata": {},
   "outputs": [
    {
     "name": "stdout",
     "output_type": "stream",
     "text": [
      "<class 'pandas.core.frame.DataFrame'>\n",
      "RangeIndex: 4572 entries, 0 to 4571\n",
      "Data columns (total 5 columns):\n",
      " #   Column        Non-Null Count  Dtype  \n",
      "---  ------        --------------  -----  \n",
      " 0   TV            4572 non-null   float64\n",
      " 1   Radio         4572 non-null   float64\n",
      " 2   Social Media  4572 non-null   float64\n",
      " 3   Influencer    4572 non-null   object \n",
      " 4   Sales         4572 non-null   float64\n",
      "dtypes: float64(4), object(1)\n",
      "memory usage: 178.7+ KB\n"
     ]
    }
   ],
   "source": [
    "data.info()"
   ]
  },
  {
   "cell_type": "markdown",
   "metadata": {},
   "source": [
    "<h3><b>Data Preprocessing<hr></b></h3>"
   ]
  },
  {
   "cell_type": "code",
   "execution_count": 7,
   "metadata": {},
   "outputs": [
    {
     "data": {
      "text/html": [
       "<div>\n",
       "<style scoped>\n",
       "    .dataframe tbody tr th:only-of-type {\n",
       "        vertical-align: middle;\n",
       "    }\n",
       "\n",
       "    .dataframe tbody tr th {\n",
       "        vertical-align: top;\n",
       "    }\n",
       "\n",
       "    .dataframe thead th {\n",
       "        text-align: right;\n",
       "    }\n",
       "</style>\n",
       "<table border=\"1\" class=\"dataframe\">\n",
       "  <thead>\n",
       "    <tr style=\"text-align: right;\">\n",
       "      <th></th>\n",
       "      <th>TV</th>\n",
       "      <th>Radio</th>\n",
       "      <th>Social Media</th>\n",
       "      <th>Influencer</th>\n",
       "      <th>Sales</th>\n",
       "    </tr>\n",
       "  </thead>\n",
       "  <tbody>\n",
       "    <tr>\n",
       "      <th>0</th>\n",
       "      <td>-1.458765</td>\n",
       "      <td>-1.198745</td>\n",
       "      <td>-0.187979</td>\n",
       "      <td>1</td>\n",
       "      <td>54.732757</td>\n",
       "    </tr>\n",
       "    <tr>\n",
       "      <th>1</th>\n",
       "      <td>-1.573736</td>\n",
       "      <td>-0.922522</td>\n",
       "      <td>-0.413405</td>\n",
       "      <td>1</td>\n",
       "      <td>46.677897</td>\n",
       "    </tr>\n",
       "    <tr>\n",
       "      <th>2</th>\n",
       "      <td>-0.500678</td>\n",
       "      <td>-0.235083</td>\n",
       "      <td>-0.185524</td>\n",
       "      <td>1</td>\n",
       "      <td>150.177829</td>\n",
       "    </tr>\n",
       "    <tr>\n",
       "      <th>3</th>\n",
       "      <td>1.108909</td>\n",
       "      <td>1.226255</td>\n",
       "      <td>1.627637</td>\n",
       "      <td>1</td>\n",
       "      <td>298.246340</td>\n",
       "    </tr>\n",
       "    <tr>\n",
       "      <th>4</th>\n",
       "      <td>-1.497089</td>\n",
       "      <td>-1.005275</td>\n",
       "      <td>-0.867304</td>\n",
       "      <td>2</td>\n",
       "      <td>56.594181</td>\n",
       "    </tr>\n",
       "  </tbody>\n",
       "</table>\n",
       "</div>"
      ],
      "text/plain": [
       "         TV     Radio  Social Media  Influencer       Sales\n",
       "0 -1.458765 -1.198745     -0.187979           1   54.732757\n",
       "1 -1.573736 -0.922522     -0.413405           1   46.677897\n",
       "2 -0.500678 -0.235083     -0.185524           1  150.177829\n",
       "3  1.108909  1.226255      1.627637           1  298.246340\n",
       "4 -1.497089 -1.005275     -0.867304           2   56.594181"
      ]
     },
     "execution_count": 7,
     "metadata": {},
     "output_type": "execute_result"
    }
   ],
   "source": [
    "from sklearn.preprocessing import LabelEncoder, StandardScaler\n",
    "import joblib\n",
    "\n",
    "df = data.copy()\n",
    "\n",
    "for i in df.drop(\"Sales\", axis=1).columns:\n",
    "    if i in df.select_dtypes(include= 'number').columns:\n",
    "        scaler = StandardScaler()\n",
    "        df[i] = scaler.fit_transform(df[[i]])\n",
    "        joblib.dump(scaler, open(f'{i}.scaler.pkl', 'wb'))\n",
    "    else:\n",
    "        encoder = LabelEncoder()\n",
    "        df[i] = encoder.fit_transform(df[[i]])\n",
    "        joblib.dump(encoder, open(f'{i}.encoder.pkl', 'wb'))\n",
    "df.head()"
   ]
  },
  {
   "cell_type": "markdown",
   "metadata": {},
   "source": [
    "<h3><b>Modelling<hr></b></h3>"
   ]
  },
  {
   "cell_type": "code",
   "execution_count": 14,
   "metadata": {},
   "outputs": [
    {
     "data": {
      "text/html": [
       "<div>\n",
       "<style scoped>\n",
       "    .dataframe tbody tr th:only-of-type {\n",
       "        vertical-align: middle;\n",
       "    }\n",
       "\n",
       "    .dataframe tbody tr th {\n",
       "        vertical-align: top;\n",
       "    }\n",
       "\n",
       "    .dataframe thead th {\n",
       "        text-align: right;\n",
       "    }\n",
       "</style>\n",
       "<table border=\"1\" class=\"dataframe\">\n",
       "  <thead>\n",
       "    <tr style=\"text-align: right;\">\n",
       "      <th></th>\n",
       "      <th>TV</th>\n",
       "      <th>Radio</th>\n",
       "      <th>Social Media</th>\n",
       "      <th>Influencer</th>\n",
       "    </tr>\n",
       "  </thead>\n",
       "  <tbody>\n",
       "    <tr>\n",
       "      <th>1740</th>\n",
       "      <td>-0.194090</td>\n",
       "      <td>-0.428411</td>\n",
       "      <td>-1.139247</td>\n",
       "      <td>1</td>\n",
       "    </tr>\n",
       "    <tr>\n",
       "      <th>4416</th>\n",
       "      <td>-1.113854</td>\n",
       "      <td>-0.865625</td>\n",
       "      <td>-1.275407</td>\n",
       "      <td>0</td>\n",
       "    </tr>\n",
       "    <tr>\n",
       "      <th>1226</th>\n",
       "      <td>-0.270737</td>\n",
       "      <td>-0.063170</td>\n",
       "      <td>0.121957</td>\n",
       "      <td>3</td>\n",
       "    </tr>\n",
       "    <tr>\n",
       "      <th>2848</th>\n",
       "      <td>-0.653972</td>\n",
       "      <td>-1.300665</td>\n",
       "      <td>0.462995</td>\n",
       "      <td>0</td>\n",
       "    </tr>\n",
       "    <tr>\n",
       "      <th>1826</th>\n",
       "      <td>-1.458765</td>\n",
       "      <td>-1.831002</td>\n",
       "      <td>0.097776</td>\n",
       "      <td>1</td>\n",
       "    </tr>\n",
       "  </tbody>\n",
       "</table>\n",
       "</div>"
      ],
      "text/plain": [
       "            TV     Radio  Social Media  Influencer\n",
       "1740 -0.194090 -0.428411     -1.139247           1\n",
       "4416 -1.113854 -0.865625     -1.275407           0\n",
       "1226 -0.270737 -0.063170      0.121957           3\n",
       "2848 -0.653972 -1.300665      0.462995           0\n",
       "1826 -1.458765 -1.831002      0.097776           1"
      ]
     },
     "metadata": {},
     "output_type": "display_data"
    },
    {
     "data": {
      "text/plain": [
       "1740    178.601661\n",
       "4416     92.848374\n",
       "1226    166.124099\n",
       "2848    134.445973\n",
       "1826     56.016896\n",
       "Name: Sales, dtype: float64"
      ]
     },
     "metadata": {},
     "output_type": "display_data"
    }
   ],
   "source": [
    "x = df.drop('Sales', axis=1)\n",
    "y = df.Sales\n",
    "\n",
    "\n",
    "from sklearn.model_selection import train_test_split\n",
    "\n",
    "xtrain, xtest, ytrain, ytest = train_test_split(x, y, test_size = 0.25, random_state = 40)\n",
    "\n",
    "trains = pd.concat([xtrain, ytrain], axis=1)\n",
    "tests = pd.concat([xtest, ytest], axis=1)\n",
    "\n",
    "display(xtest.head())\n",
    "display(ytest.head ())"
   ]
  },
  {
   "cell_type": "code",
   "execution_count": 19,
   "metadata": {},
   "outputs": [
    {
     "name": "stdout",
     "output_type": "stream",
     "text": [
      "Model Cross Validation is: 99.92\n",
      "\n",
      "Model Performance is: 99.24\n"
     ]
    }
   ],
   "source": [
    "from sklearn.ensemble import RandomForestRegressor\n",
    "from sklearn.metrics import r2_score\n",
    "\n",
    "model = RandomForestRegressor()\n",
    "\n",
    "model.fit(xtrain, ytrain)\n",
    "val = model.predict(xtrain)\n",
    "\n",
    "print(f\"Model Cross Validation is: {round(r2_score(val, ytrain)*100, 2)}\\n\")\n",
    "\n",
    "pred = model.predict(xtest)\n",
    "print(f\"Model Performance is: {round(r2_score(ytest, pred)*100, 2)}\")"
   ]
  },
  {
   "cell_type": "code",
   "execution_count": 20,
   "metadata": {},
   "outputs": [],
   "source": [
    "# save the model\n",
    "\n",
    "joblib.dump(model, open(f'advertModel.pkl', 'wb'))\n",
    "\n"
   ]
  },
  {
   "cell_type": "code",
   "execution_count": null,
   "metadata": {},
   "outputs": [],
   "source": []
  }
 ],
 "metadata": {
  "kernelspec": {
   "display_name": "Python 3",
   "language": "python",
   "name": "python3"
  },
  "language_info": {
   "codemirror_mode": {
    "name": "ipython",
    "version": 3
   },
   "file_extension": ".py",
   "mimetype": "text/x-python",
   "name": "python",
   "nbconvert_exporter": "python",
   "pygments_lexer": "ipython3",
   "version": "3.11.9"
  }
 },
 "nbformat": 4,
 "nbformat_minor": 2
}
